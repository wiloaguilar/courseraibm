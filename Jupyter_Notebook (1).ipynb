{
 "cells": [
  {
   "cell_type": "markdown",
   "metadata": {},
   "source": [
    "<center>\n",
    "    <img src=\"https://cf-courses-data.s3.us.cloud-object-storage.appdomain.cloud/IBMDeveloperSkillsNetwork-DS0105EN-SkillsNetwork/labs/Module2/images/SN_web_lightmode.png\" width=\"300\" alt=\"cognitiveclass.ai logo\">\n",
    "</center>\n"
   ]
  },
  {
   "cell_type": "markdown",
   "metadata": {},
   "source": [
    "#### Add your code below following the instructions given in the course\n"
   ]
  },
  {
   "cell_type": "markdown",
   "metadata": {},
   "source": [
    "# My Jupyter Notebook on IBM Watson Studio"
   ]
  },
  {
   "cell_type": "markdown",
   "metadata": {},
   "source": [
    "**Wilson Aguilar** \n",
    "Data Marketing Analytics"
   ]
  },
  {
   "cell_type": "markdown",
   "metadata": {},
   "source": [
    "I am interested in data science because I consider the only thing that can distinguish with animals is predicting the future. "
   ]
  },
  {
   "cell_type": "markdown",
   "metadata": {},
   "source": [
    "### this code work to cut images for a blog post. "
   ]
  },
  {
   "cell_type": "code",
   "execution_count": null,
   "metadata": {},
   "outputs": [],
   "source": [
    "import cv2\n",
    "from tkinter.filedialog import* \n",
    "\n",
    "img = 'path_image'\n",
    "image = cv2.imread(img)\n",
    "new1 = cv2.resize(image,(1200, 1200))\n",
    "cropped = new1[300:1045,0:1200]\n",
    "cv2.imwrite('newimg2.jpg', cropped, [cv2.IMWRITE_JPEG_QUALITY, 60])"
   ]
  },
  {
   "cell_type": "markdown",
   "metadata": {},
   "source": [
    "<ol>\n",
    "<li>Item 1</li>\n",
    "<li>Item 2 ( we can type 1. and the markdown will automatically numerate them) </li>\n",
    "<li><p>First Item</p>\n",
    "<ul>\n",
    "<li>Nested item 1</li>\n",
    "<li>Nested item 2<ol>\n",
    "<li>Keep going</li>\n",
    "<li>Yes</li>\n",
    "</ol>\n",
    "</li>\n",
    "</ul>\n",
    "</li>\n",
    "<li><p>Second Item</p>\n",
    "</li>\n",
    "<li>First Item</li>\n",
    "<li>Second Item</li>\n",
    "</ol>\n",
    "\n",
    "| Stretch/Untouched | ProbDistribution | Accuracy |\n",
    "| --- | --- | --- |\n",
    "| Stretched | Gaussian | .843 |\n",
    "\n",
    "<blockquote>This is good</blockquote>"
   ]
  }
 ],
 "metadata": {
  "kernelspec": {
   "display_name": "Python 3 (ipykernel)",
   "language": "python",
   "name": "python3"
  },
  "language_info": {
   "codemirror_mode": {
    "name": "ipython",
    "version": 3
   },
   "file_extension": ".py",
   "mimetype": "text/x-python",
   "name": "python",
   "nbconvert_exporter": "python",
   "pygments_lexer": "ipython3",
   "version": "3.9.13"
  }
 },
 "nbformat": 4,
 "nbformat_minor": 4
}
